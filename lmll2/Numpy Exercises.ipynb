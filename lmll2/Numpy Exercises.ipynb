{
 "cells": [
  {
   "cell_type": "markdown",
   "metadata": {},
   "source": [
    "# Numpy Exercise for AI 240  - 10459          \n",
    "\n",
    "Instructor- Dr. Uma Gajendragadkar\n",
    "\n",
    "### Exercise 1.1 - If Numpy is not already installed then please install Numpy using below instruction\n",
    "!pip install Numpy      \n",
    "\n",
    "### Exercise 1.2 # Import Numpy package using below instruction \n",
    "import numpy as np\n",
    "\n",
    "### Exercise 1.3 ## Example Usage Read below example and execute the cell\n",
    "\n",
    "data = np.array([1,2,3,4,5])\n",
    "\n",
    "print(data)\n",
    "\n",
    "print(len(data))\n",
    "\n",
    "print(type(data))\n",
    "\n",
    "print(data.shape)\n",
    "\n",
    "### Exercise 1.4 Do all exercises from Lecture slides. Refer slides shared after the lecture.\n",
    "\n",
    "### Exercise 1.5 Searching Arrays - find method of numpy to search an element in array - You can google for the method\n",
    "\n",
    "Find the indexes where the value is 9:\n",
    "\n",
    "\n",
    "arr = np.array([3, 2, 14, 9, 10, 12])\n",
    "\n",
    "### Exercise 1.6 Join two arrays given below and print the result.\n",
    "\n",
    "arr1 = np.array([9, 5, 8])\n",
    "\n",
    "arr2 = np.array([55, 89, 76])\n",
    "\n",
    "### Save and submit your notebook in your Github account."
   ]
  },
  {
   "cell_type": "code",
   "execution_count": 1,
   "metadata": {},
   "outputs": [
    {
     "name": "stdout",
     "output_type": "stream",
     "text": [
      "Requirement already satisfied: Numpy in c:\\users\\reyno\\anaconda3\\lib\\site-packages (1.26.4)\n"
     ]
    }
   ],
   "source": [
    "!pip install Numpy"
   ]
  },
  {
   "cell_type": "code",
   "execution_count": 3,
   "metadata": {},
   "outputs": [],
   "source": [
    "import numpy as np"
   ]
  },
  {
   "cell_type": "code",
   "execution_count": 5,
   "metadata": {},
   "outputs": [
    {
     "name": "stdout",
     "output_type": "stream",
     "text": [
      "[1 2 3 4 5]\n",
      "5\n",
      "<class 'numpy.ndarray'>\n",
      "(5,)\n"
     ]
    }
   ],
   "source": [
    "data = np.array([1,2,3,4,5])\n",
    "\n",
    "print(data)\n",
    "\n",
    "print(len(data))\n",
    "\n",
    "print(type(data))\n",
    "\n",
    "print(data.shape)"
   ]
  },
  {
   "cell_type": "code",
   "execution_count": 7,
   "metadata": {},
   "outputs": [
    {
     "name": "stdout",
     "output_type": "stream",
     "text": [
      "[10 20 30 40 50]\n"
     ]
    }
   ],
   "source": [
    "arr = np.array([10, 20, 30, 40, 50])\n",
    "print(arr)"
   ]
  },
  {
   "cell_type": "code",
   "execution_count": 9,
   "metadata": {},
   "outputs": [
    {
     "name": "stdout",
     "output_type": "stream",
     "text": [
      "[[10 20 30]\n",
      " [40 50 60]]\n"
     ]
    }
   ],
   "source": [
    "arr2D = np.array([[10, 20, 30] , [40, 50, 60]])\n",
    "print(arr2D)"
   ]
  },
  {
   "cell_type": "code",
   "execution_count": 13,
   "metadata": {},
   "outputs": [
    {
     "name": "stdout",
     "output_type": "stream",
     "text": [
      "10\n"
     ]
    }
   ],
   "source": [
    "print(arr[0])"
   ]
  },
  {
   "cell_type": "code",
   "execution_count": 15,
   "metadata": {},
   "outputs": [
    {
     "name": "stdout",
     "output_type": "stream",
     "text": [
      "[2 3 4 5]\n"
     ]
    }
   ],
   "source": [
    "arr1 = np.array([1, 2, 3, 4, 5, 6, 7])\n",
    "print(arr1[1:5])"
   ]
  },
  {
   "cell_type": "code",
   "execution_count": 19,
   "metadata": {},
   "outputs": [
    {
     "name": "stdout",
     "output_type": "stream",
     "text": [
      "[10 20 30 40]\n"
     ]
    }
   ],
   "source": [
    "arr2 = np.array([30, 20, 40, 10])\n",
    "print(np.sort(arr2))"
   ]
  },
  {
   "cell_type": "code",
   "execution_count": 21,
   "metadata": {},
   "outputs": [
    {
     "name": "stdout",
     "output_type": "stream",
     "text": [
      "['berry' 'kiwi' 'pear']\n"
     ]
    }
   ],
   "source": [
    "arr3 = np.array(['kiwi', 'berry', 'pear'])\n",
    "print(np.sort(arr3))"
   ]
  },
  {
   "cell_type": "code",
   "execution_count": 25,
   "metadata": {},
   "outputs": [
    {
     "name": "stdout",
     "output_type": "stream",
     "text": [
      "(array([3], dtype=int64),)\n"
     ]
    }
   ],
   "source": [
    "arr1_5 = np.array([3, 2, 14, 9, 10, 12])\n",
    "x = np.where(arr1_5 == 9)\n",
    "print(x)"
   ]
  },
  {
   "cell_type": "code",
   "execution_count": 33,
   "metadata": {},
   "outputs": [
    {
     "name": "stdout",
     "output_type": "stream",
     "text": [
      "[ 9  5  8 55 89 76]\n"
     ]
    }
   ],
   "source": [
    "arr1_6 = np.array([9, 5, 8])\n",
    "\n",
    "arr2_6 = np.array([55, 89, 76])\n",
    "\n",
    "y = np.concatenate((arr1_6, arr2_6), axis = 0)\n",
    "print(y)"
   ]
  },
  {
   "cell_type": "code",
   "execution_count": null,
   "metadata": {},
   "outputs": [],
   "source": []
  }
 ],
 "metadata": {
  "kernelspec": {
   "display_name": "Python [conda env:base] *",
   "language": "python",
   "name": "conda-base-py"
  },
  "language_info": {
   "codemirror_mode": {
    "name": "ipython",
    "version": 3
   },
   "file_extension": ".py",
   "mimetype": "text/x-python",
   "name": "python",
   "nbconvert_exporter": "python",
   "pygments_lexer": "ipython3",
   "version": "3.12.7"
  }
 },
 "nbformat": 4,
 "nbformat_minor": 4
}
